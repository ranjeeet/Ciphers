{
 "cells": [
  {
   "cell_type": "code",
   "execution_count": null,
   "metadata": {},
   "outputs": [],
   "source": [
    "def main():\n",
    "    myKey = int(input('Enter key'))\n",
    "    myMode = input('You want to encrypt or decrypt')\n",
    "    if myMode == 'encrypt':\n",
    "        translated = encryptMessage(myKey, myMessage)\n",
    "    elif myMode == 'decrypt':\n",
    "        translated = decryptMessage(myKey, myMessage)\n",
    "    print(translated)\n",
    "    \n",
    "          \n",
    "          \n",
    "def encryptMessage(myKey, myMessage):\n",
    "    \n",
    "          \n",
    "          \n",
    "def decryptMessage(myKey, myMessage):\n",
    "    \n"
   ]
  }
 ],
 "metadata": {
  "kernelspec": {
   "display_name": "Python 3",
   "language": "python",
   "name": "python3"
  },
  "language_info": {
   "codemirror_mode": {
    "name": "ipython",
    "version": 3
   },
   "file_extension": ".py",
   "mimetype": "text/x-python",
   "name": "python",
   "nbconvert_exporter": "python",
   "pygments_lexer": "ipython3",
   "version": "3.7.1"
  }
 },
 "nbformat": 4,
 "nbformat_minor": 2
}
