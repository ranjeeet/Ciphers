{
 "cells": [
  {
   "cell_type": "code",
   "execution_count": 10,
   "metadata": {},
   "outputs": [
    {
     "name": "stdout",
     "output_type": "stream",
     "text": [
      "Enter Your Messsage: how are you\n",
      "Enter Your Key: 5\n",
      "You wnt to encrypt or decrypt: encrypt\n",
      "MTB FWJ DTZ\n"
     ]
    }
   ],
   "source": [
    "message = input('Enter Your Messsage: ')\n",
    "key = int(input(\"Enter Your Key: \"))\n",
    "mode = input('You wnt to encrypt or decrypt: ')\n",
    "LETTERS = 'ABCDEFGHIJKLMNOPQRSTUVWXYZ'\n",
    "translated = ''\n",
    "message = message.upper()\n",
    "for symbol in message:\n",
    "    if symbol in LETTERS:\n",
    "        num = LETTERS.find(symbol) \n",
    "        if mode == 'encrypt':\n",
    "            num = num + key\n",
    "        elif mode == 'decrypt':\n",
    "             num = num - key\n",
    "        if num >= len(LETTERS):\n",
    "             num = num - len(LETTERS)\n",
    "        elif num < 0:\n",
    "             num = num + len(LETTERS)\n",
    "        translated = translated + LETTERS[num]\n",
    "    else:\n",
    "        translated = translated + symbol\n",
    "print(translated)\n",
    "    "
   ]
  },
  {
   "cell_type": "code",
   "execution_count": 2,
   "metadata": {},
   "outputs": [
    {
     "name": "stdout",
     "output_type": "stream",
     "text": [
      "Enter Your Messsage: MTB FWJ DTZ\n",
      "Enter Your Key: 5\n",
      "You wnt to encrypt or decrypt: decrypt\n",
      "HOW ARE YOU\n"
     ]
    }
   ],
   "source": [
    "message = input('Enter Your Messsage: ')\n",
    "key = int(input(\"Enter Your Key: \"))\n",
    "mode = input('You wnt to encrypt or decrypt: ')\n",
    "LETTERS = 'ABCDEFGHIJKLMNOPQRSTUVWXYZ'\n",
    "translated = ''\n",
    "message = message.upper()\n",
    "for symbol in message:\n",
    "    if symbol in LETTERS:\n",
    "        num = LETTERS.find(symbol) \n",
    "        if mode == 'encrypt':\n",
    "            num = num + key\n",
    "        elif mode == 'decrypt':\n",
    "             num = num - key\n",
    "        if num >= len(LETTERS):\n",
    "             num = num - len(LETTERS)\n",
    "        elif num < 0:\n",
    "             num = num + len(LETTERS)\n",
    "        translated = translated + LETTERS[num]\n",
    "    else:\n",
    "        translated = translated + symbol\n",
    "print(translated)\n",
    "    "
   ]
  },
  {
   "cell_type": "code",
   "execution_count": null,
   "metadata": {},
   "outputs": [],
   "source": []
  }
 ],
 "metadata": {
  "kernelspec": {
   "display_name": "Python 3",
   "language": "python",
   "name": "python3"
  },
  "language_info": {
   "codemirror_mode": {
    "name": "ipython",
    "version": 3
   },
   "file_extension": ".py",
   "mimetype": "text/x-python",
   "name": "python",
   "nbconvert_exporter": "python",
   "pygments_lexer": "ipython3",
   "version": "3.7.1"
  }
 },
 "nbformat": 4,
 "nbformat_minor": 2
}
